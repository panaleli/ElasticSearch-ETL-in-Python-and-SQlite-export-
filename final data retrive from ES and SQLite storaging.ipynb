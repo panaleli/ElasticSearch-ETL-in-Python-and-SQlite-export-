{
 "cells": [
  {
   "cell_type": "code",
   "execution_count": 1,
   "metadata": {},
   "outputs": [],
   "source": [
    "#load libraries\n",
    "from pandasticsearch.client import RestClient\n",
    "from pandasticsearch.queries import Agg, Select\n",
    "from pandasticsearch.operators import *\n",
    "from pandasticsearch.types import Column\n",
    "from pandasticsearch.types import Row\n",
    "from elasticsearch import Elasticsearch\n",
    "from pandasticsearch import Select\n",
    "from pandasticsearch import DataFrame\n",
    "from pandas import DataFrame\n",
    "import numpy as np\n",
    "import pandas as pd\n",
    "import json\n",
    "from os import environ\n",
    "from espandas import Espandas\n",
    "from pandas import DataFrame, Series\n",
    "import sqlite3 as db\n",
    "import requests\n",
    "import json\n",
    "import json, time\n",
    "from pandas.io.json import json_normalize\n",
    "import os.path"
   ]
  },
  {
   "cell_type": "code",
   "execution_count": 2,
   "metadata": {},
   "outputs": [],
   "source": [
    "# declare globals for the Elasticsearch client host\n",
    "DOMAIN = \"localhost\"\n",
    "PORT = 9200\n",
    "es_client = Elasticsearch() # localhost"
   ]
  },
  {
   "cell_type": "code",
   "execution_count": 3,
   "metadata": {},
   "outputs": [
    {
     "name": "stdout",
     "output_type": "stream",
     "text": [
      "Elasticsearch client info(): {\n",
      "    \"name\": \"PC13409\",\n",
      "    \"cluster_name\": \"elasticsearch\",\n",
      "    \"cluster_uuid\": \"UrHsFJWCRwKapNIU8y7QKQ\",\n",
      "    \"version\": {\n",
      "        \"number\": \"7.4.2\",\n",
      "        \"build_flavor\": \"default\",\n",
      "        \"build_type\": \"zip\",\n",
      "        \"build_hash\": \"2f90bbf7b93631e52bafb59b3b049cb44ec25e96\",\n",
      "        \"build_date\": \"2019-10-28T20:40:44.881551Z\",\n",
      "        \"build_snapshot\": false,\n",
      "        \"lucene_version\": \"8.2.0\",\n",
      "        \"minimum_wire_compatibility_version\": \"6.8.0\",\n",
      "        \"minimum_index_compatibility_version\": \"6.0.0-beta1\"\n",
      "    },\n",
      "    \"tagline\": \"You Know, for Search\"\n",
      "}\n"
     ]
    }
   ],
   "source": [
    "try:\n",
    "# use the JSON library's dump() method for indentation\n",
    "    info = json.dumps(es_client.info(), indent=4)\n",
    "\n",
    "# pass client object to info() method\n",
    "    print (\"Elasticsearch client info():\", info)\n",
    "\n",
    "except exceptions.ConnectionError as err:\n",
    "\n",
    "# print ConnectionError for Elasticsearch\n",
    "    print (\"nElasticsearch info() ERROR:\", err)\n",
    "    print (\"nThe client host:\", host, \"is invalid or cluster is not running\")\n",
    "\n",
    "# change the client's value to 'None' if ConnectionError\n",
    "    es_client = None"
   ]
  },
  {
   "cell_type": "code",
   "execution_count": 4,
   "metadata": {},
   "outputs": [],
   "source": [
    "#connection to elasticsearch (localhost). two indeces connection with scroll time 1 minute\n",
    "elastic_url_1 = 'http://localhost:9200/cdr_1/_search?scroll=1m'\n",
    "elastic_url_2 = 'http://localhost:9200/cdr_2/_search?scroll=1m'\n",
    "elastic_url_3 = 'http://localhost:9200/cdr_2/_search?scroll=1m'\n",
    "\n",
    "\n",
    "#scroll_api_url = 'http://localhost:9200/_search/scroll'\n",
    "headers = {'Content-Type': 'application/json'}"
   ]
  },
  {
   "cell_type": "code",
   "execution_count": 5,
   "metadata": {},
   "outputs": [],
   "source": [
    "#filter search in DSL Elasticsearch\n",
    "\n",
    "# select data with countrycode = 0\n",
    "#payload = {\n",
    "#    \"size\": 100,\n",
    "#    \"query\": {\n",
    "#        \"match\" : {\n",
    "#            \"countrycode\" : \"0\"\n",
    "#        }\n",
    "#    }\n",
    "#}\n",
    "\n",
    "# select all data from ES index with batch size 100\n",
    "payload = {\n",
    "        \"size\": 100,\n",
    "        \"query\": {\n",
    "            \"match_all\": {}\n",
    "        }\n",
    "    }\n",
    "\n",
    "# select data with internet <> Null\n",
    "#payload = {\"size\": 100,\"query\": {\"constant_score\": {\"filter\": {\"exists\": {\"field\": \"internet\"}}}}}\n"
   ]
  },
  {
   "cell_type": "code",
   "execution_count": 6,
   "metadata": {},
   "outputs": [],
   "source": [
    "##Data retrive for 1st Index##"
   ]
  },
  {
   "cell_type": "code",
   "execution_count": 7,
   "metadata": {},
   "outputs": [],
   "source": [
    "r1 = requests.request(\n",
    "    \"POST\",\n",
    "    elastic_url_1,\n",
    "    data=json.dumps({\"size\": 100,\"query\": {\"constant_score\": {\"filter\": {\"exists\": {\"field\": \"internet\"}}}}}),\n",
    "    headers=headers)"
   ]
  },
  {
   "cell_type": "code",
   "execution_count": 8,
   "metadata": {},
   "outputs": [
    {
     "name": "stdout",
     "output_type": "stream",
     "text": [
      "<Response [200]>\n"
     ]
    }
   ],
   "source": [
    "print(r1)"
   ]
  },
  {
   "cell_type": "code",
   "execution_count": 27,
   "metadata": {},
   "outputs": [],
   "source": [
    "# first batch data for 1st index\n",
    "try:\n",
    "    res_json = r1.json()\n",
    "    data = res_json['hits']['hits']\n",
    "    _scroll_id = res_json['_scroll_id']\n",
    "\n",
    "except KeyError:\n",
    "    data = []\n",
    "    _scroll_id = None\n",
    "    print ('Error: Elastic Search: %s' % str(r1.json()))"
   ]
  },
  {
   "cell_type": "code",
   "execution_count": 28,
   "metadata": {},
   "outputs": [
    {
     "name": "stdout",
     "output_type": "stream",
     "text": [
      "[{'_index': 'cdr_1', '_type': '_doc', '_id': 'ZCPBt24BIq6EnoN8H03q', '_score': 1.0, '_source': {'datetime': '2013-11-01 01:00:00', '@timestamp': '2013-11-01T01:00:00.000+02:00', 'countrycode': 43, 'CellID': 7634, 'internet': 0.2433}}, {'_index': 'cdr_1', '_type': '_doc', '_id': 'ZiPBt24BIq6EnoN8H03q', '_score': 1.0, '_source': {'datetime': '2013-11-01 01:00:00', '@timestamp': '2013-11-01T01:00:00.000+02:00', 'countrycode': 31, 'CellID': 7635, 'internet': 0.0178}}, {'_index': 'cdr_1', '_type': '_doc', '_id': 'ZyPBt24BIq6EnoN8H03q', '_score': 1.0, '_source': {'callout': 2.8076, 'smsout': 1.6522, 'countrycode': 39, 'CellID': 7635, 'datetime': '2013-11-01 01:00:00', '@timestamp': '2013-11-01T01:00:00.000+02:00', 'smsin': 9.5432, 'callin': 0.1807, 'internet': 190.4214}}, {'_index': 'cdr_1', '_type': '_doc', '_id': 'aCPBt24BIq6EnoN8H03q', '_score': 1.0, '_source': {'datetime': '2013-11-01 01:00:00', '@timestamp': '2013-11-01T01:00:00.000+02:00', 'countrycode': 43, 'CellID': 7635, 'internet': 0.0178}}, {'_index': 'cdr_1', '_type': '_doc', '_id': 'ayPBt24BIq6EnoN8H03q', '_score': 1.0, '_source': {'callout': 2.9014, 'smsout': 1.6113, 'countrycode': 39, 'CellID': 7636, 'datetime': '2013-11-01 01:00:00', '@timestamp': '2013-11-01T01:00:00.000+02:00', 'smsin': 9.2772, 'callin': 0.437, 'internet': 197.71}}, {'_index': 'cdr_1', '_type': '_doc', '_id': 'bCPBt24BIq6EnoN8H03q', '_score': 1.0, '_source': {'datetime': '2013-11-01 01:00:00', '@timestamp': '2013-11-01T01:00:00.000+02:00', 'countrycode': 81, 'CellID': 7636, 'internet': 0.009}}, {'_index': 'cdr_1', '_type': '_doc', '_id': 'ciPBt24BIq6EnoN8H03q', '_score': 1.0, '_source': {'callout': 3.0738, 'smsout': 2.185, 'countrycode': 39, 'CellID': 7637, 'datetime': '2013-11-01 01:00:00', '@timestamp': '2013-11-01T01:00:00.000+02:00', 'smsin': 3.2429, 'callin': 2.0647, 'internet': 227.3055}}, {'_index': 'cdr_1', '_type': '_doc', '_id': 'cyPBt24BIq6EnoN8H03q', '_score': 1.0, '_source': {'datetime': '2013-11-01 01:00:00', '@timestamp': '2013-11-01T01:00:00.000+02:00', 'countrycode': 81, 'CellID': 7637, 'internet': 0.0291}}, {'_index': 'cdr_1', '_type': '_doc', '_id': 'eSPBt24BIq6EnoN8H03q', '_score': 1.0, '_source': {'callout': 4.4353, 'smsout': 2.5528, 'countrycode': 39, 'CellID': 7638, 'datetime': '2013-11-01 01:00:00', '@timestamp': '2013-11-01T01:00:00.000+02:00', 'smsin': 3.9225, 'callin': 3.0949, 'internet': 285.3269}}, {'_index': 'cdr_1', '_type': '_doc', '_id': 'eiPBt24BIq6EnoN8H03q', '_score': 1.0, '_source': {'datetime': '2013-11-01 01:00:00', '@timestamp': '2013-11-01T01:00:00.000+02:00', 'countrycode': 81, 'CellID': 7638, 'internet': 0.0249}}, {'_index': 'cdr_1', '_type': '_doc', '_id': 'gCPBt24BIq6EnoN8H03q', '_score': 1.0, '_source': {'callout': 5.5882, 'smsout': 2.2967, 'countrycode': 39, 'CellID': 7639, 'datetime': '2013-11-01 01:00:00', '@timestamp': '2013-11-01T01:00:00.000+02:00', 'smsin': 4.7449, 'callin': 3.6687, 'internet': 317.2261}}, {'_index': 'cdr_1', '_type': '_doc', '_id': 'hyPBt24BIq6EnoN8H03q', '_score': 1.0, '_source': {'callout': 5.9531, 'smsout': 2.5502, 'countrycode': 39, 'CellID': 7640, 'datetime': '2013-11-01 01:00:00', '@timestamp': '2013-11-01T01:00:00.000+02:00', 'smsin': 4.0594, 'callin': 4.7656, 'internet': 335.2125}}, {'_index': 'cdr_1', '_type': '_doc', '_id': 'jSPBt24BIq6EnoN8H03q', '_score': 1.0, '_source': {'callout': 5.9394, 'smsout': 2.3419, 'countrycode': 39, 'CellID': 7641, 'datetime': '2013-11-01 01:00:00', '@timestamp': '2013-11-01T01:00:00.000+02:00', 'smsin': 4.3049, 'callin': 5.3325, 'internet': 397.3104}}, {'_index': 'cdr_1', '_type': '_doc', '_id': 'kSPBt24BIq6EnoN8H03q', '_score': 1.0, '_source': {'callout': 3.5691, 'smsout': 2.0268, 'countrycode': 39, 'CellID': 7642, 'datetime': '2013-11-01 01:00:00', '@timestamp': '2013-11-01T01:00:00.000+02:00', 'smsin': 3.636, 'callin': 4.2774, 'internet': 387.8365}}, {'_index': 'cdr_1', '_type': '_doc', '_id': 'lCPBt24BIq6EnoN8H03q', '_score': 1.0, '_source': {'callout': 5.5631, 'smsout': 4.5431, 'countrycode': 39, 'CellID': 7643, 'datetime': '2013-11-01 01:00:00', '@timestamp': '2013-11-01T01:00:00.000+02:00', 'smsin': 4.4516, 'callin': 5.5758, 'internet': 483.4423}}, {'_index': 'cdr_1', '_type': '_doc', '_id': 'lSPBt24BIq6EnoN8H03q', '_score': 1.0, '_source': {'datetime': '2013-11-01 01:00:00', '@timestamp': '2013-11-01T01:00:00.000+02:00', 'countrycode': 41, 'CellID': 7643, 'internet': 1.0978}}, {'_index': 'cdr_1', '_type': '_doc', '_id': 'mCPBt24BIq6EnoN8H03q', '_score': 1.0, '_source': {'callout': 8.432, 'smsout': 6.4043, 'countrycode': 39, 'CellID': 7644, 'datetime': '2013-11-01 01:00:00', '@timestamp': '2013-11-01T01:00:00.000+02:00', 'smsin': 5.3389, 'callin': 7.0043, 'internet': 549.9178}}, {'_index': 'cdr_1', '_type': '_doc', '_id': 'mSPBt24BIq6EnoN8H03q', '_score': 1.0, '_source': {'datetime': '2013-11-01 01:00:00', '@timestamp': '2013-11-01T01:00:00.000+02:00', 'countrycode': 41, 'CellID': 7644, 'internet': 1.6683}}, {'_index': 'cdr_1', '_type': '_doc', '_id': 'myPBt24BIq6EnoN8H03q', '_score': 1.0, '_source': {'callout': 5.358, 'smsout': 3.7622, 'countrycode': 39, 'CellID': 7645, 'datetime': '2013-11-01 01:00:00', '@timestamp': '2013-11-01T01:00:00.000+02:00', 'smsin': 2.9197, 'callin': 3.9783, 'internet': 348.5511}}, {'_index': 'cdr_1', '_type': '_doc', '_id': 'nCPBt24BIq6EnoN8H03q', '_score': 1.0, '_source': {'datetime': '2013-11-01 01:00:00', '@timestamp': '2013-11-01T01:00:00.000+02:00', 'countrycode': 41, 'CellID': 7645, 'internet': 0.4226}}, {'_index': 'cdr_1', '_type': '_doc', '_id': 'nyPBt24BIq6EnoN8H03q', '_score': 1.0, '_source': {'callout': 0.4702, 'smsout': 0.9458, 'countrycode': 39, 'CellID': 7646, 'datetime': '2013-11-01 01:00:00', '@timestamp': '2013-11-01T01:00:00.000+02:00', 'smsin': 0.371, 'callin': 0.398, 'internet': 130.2114}}, {'_index': 'cdr_1', '_type': '_doc', '_id': 'oiPBt24BIq6EnoN8H03q', '_score': 1.0, '_source': {'callout': 0.1338, 'smsout': 0.5606, 'countrycode': 39, 'CellID': 7647, 'datetime': '2013-11-01 01:00:00', '@timestamp': '2013-11-01T01:00:00.000+02:00', 'smsin': 0.8444, 'callin': 0.6181, 'internet': 157.5997}}, {'_index': 'cdr_1', '_type': '_doc', '_id': 'piPBt24BIq6EnoN8H03q', '_score': 1.0, '_source': {'callout': 0.3494, 'smsout': 2.3609, 'countrycode': 39, 'CellID': 7648, 'datetime': '2013-11-01 01:00:00', '@timestamp': '2013-11-01T01:00:00.000+02:00', 'smsin': 2.1957, 'callin': 2.0162, 'internet': 214.0027}}, {'_index': 'cdr_1', '_type': '_doc', '_id': 'qiPBt24BIq6EnoN8H03q', '_score': 1.0, '_source': {'callout': 0.5929, 'smsout': 3.4863, 'countrycode': 39, 'CellID': 7649, 'datetime': '2013-11-01 01:00:00', '@timestamp': '2013-11-01T01:00:00.000+02:00', 'smsin': 3.0213, 'callin': 2.4977, 'internet': 197.6623}}, {'_index': 'cdr_1', '_type': '_doc', '_id': 'ryPBt24BIq6EnoN8H03q', '_score': 1.0, '_source': {'callout': 1.4381, 'smsout': 2.9521, 'countrycode': 39, 'CellID': 7650, 'datetime': '2013-11-01 01:00:00', '@timestamp': '2013-11-01T01:00:00.000+02:00', 'smsin': 2.7555, 'callin': 1.9453, 'internet': 221.2893}}, {'_index': 'cdr_1', '_type': '_doc', '_id': 'syPBt24BIq6EnoN8H03q', '_score': 1.0, '_source': {'callout': 1.8887, 'smsout': 2.0342, 'countrycode': 39, 'CellID': 7651, 'datetime': '2013-11-01 01:00:00', '@timestamp': '2013-11-01T01:00:00.000+02:00', 'smsin': 2.0466, 'callin': 1.3679, 'internet': 892.5148}}, {'_index': 'cdr_1', '_type': '_doc', '_id': 'tiPBt24BIq6EnoN8H03q', '_score': 1.0, '_source': {'callout': 1.9572, 'smsout': 13.8221, 'countrycode': 39, 'CellID': 7652, 'datetime': '2013-11-01 01:00:00', '@timestamp': '2013-11-01T01:00:00.000+02:00', 'smsin': 11.1886, 'callin': 1.8237, 'internet': 850.2245}}, {'_index': 'cdr_1', '_type': '_doc', '_id': 'uSPBt24BIq6EnoN8H03q', '_score': 1.0, '_source': {'callout': 2.0209, 'smsout': 16.6082, 'countrycode': 39, 'CellID': 7653, 'datetime': '2013-11-01 01:00:00', '@timestamp': '2013-11-01T01:00:00.000+02:00', 'smsin': 13.3659, 'callin': 2.0209, 'internet': 782.7373}}, {'_index': 'cdr_1', '_type': '_doc', '_id': 'vCPBt24BIq6EnoN8H03q', '_score': 1.0, '_source': {'callout': 2.8173, 'smsout': 2.307, 'countrycode': 39, 'CellID': 7654, 'datetime': '2013-11-01 01:00:00', '@timestamp': '2013-11-01T01:00:00.000+02:00', 'smsin': 2.8345, 'callin': 1.8861, 'internet': 1099.0279}}, {'_index': 'cdr_1', '_type': '_doc', '_id': 'vyPBt24BIq6EnoN8H03q', '_score': 1.0, '_source': {'callout': 3.4039, 'smsout': 2.4793, 'countrycode': 39, 'CellID': 7655, 'datetime': '2013-11-01 01:00:00', '@timestamp': '2013-11-01T01:00:00.000+02:00', 'smsin': 4.4348, 'callin': 3.4804, 'internet': 787.1506}}, {'_index': 'cdr_1', '_type': '_doc', '_id': 'wSPBt24BIq6EnoN8H03q', '_score': 1.0, '_source': {'callout': 3.222, 'smsout': 2.4785, 'countrycode': 39, 'CellID': 7656, 'datetime': '2013-11-01 01:00:00', '@timestamp': '2013-11-01T01:00:00.000+02:00', 'smsin': 4.4613, 'callin': 3.4699, 'internet': 792.1261}}, {'_index': 'cdr_1', '_type': '_doc', '_id': 'wyPBt24BIq6EnoN8H03q', '_score': 1.0, '_source': {'callout': 3.3896, 'smsout': 2.4843, 'countrycode': 39, 'CellID': 7657, 'datetime': '2013-11-01 01:00:00', '@timestamp': '2013-11-01T01:00:00.000+02:00', 'smsin': 4.4015, 'callin': 3.4053, 'internet': 780.1288}}, {'_index': 'cdr_1', '_type': '_doc', '_id': 'xSPBt24BIq6EnoN8H03q', '_score': 1.0, '_source': {'callout': 3.2588, 'smsout': 5.1464, 'countrycode': 39, 'CellID': 7658, 'datetime': '2013-11-01 01:00:00', '@timestamp': '2013-11-01T01:00:00.000+02:00', 'smsin': 2.9172, 'callin': 1.3535, 'internet': 296.1281}}, {'_index': 'cdr_1', '_type': '_doc', '_id': 'xyPBt24BIq6EnoN8H03q', '_score': 1.0, '_source': {'callout': 2.1937, 'smsout': 8.0145, 'countrycode': 39, 'CellID': 7659, 'datetime': '2013-11-01 01:00:00', '@timestamp': '2013-11-01T01:00:00.000+02:00', 'smsin': 3.1773, 'callin': 1.1281, 'internet': 195.5416}}, {'_index': 'cdr_1', '_type': '_doc', '_id': 'ySPBt24BIq6EnoN8H03q', '_score': 1.0, '_source': {'callout': 2.4267, 'smsout': 8.8958, 'countrycode': 39, 'CellID': 7660, 'datetime': '2013-11-01 01:00:00', '@timestamp': '2013-11-01T01:00:00.000+02:00', 'smsin': 4.4696, 'callin': 1.7027, 'internet': 277.2614}}, {'_index': 'cdr_1', '_type': '_doc', '_id': 'yiPBt24BIq6EnoN8H03q', '_score': 1.0, '_source': {'datetime': '2013-11-01 01:00:00', '@timestamp': '2013-11-01T01:00:00.000+02:00', 'countrycode': 90, 'CellID': 7660, 'internet': 0.0896}}, {'_index': 'cdr_1', '_type': '_doc', '_id': 'zCPBt24BIq6EnoN8H03q', '_score': 1.0, '_source': {'callout': 3.4328, 'smsout': 9.1951, 'countrycode': 39, 'CellID': 7661, 'datetime': '2013-11-01 01:00:00', '@timestamp': '2013-11-01T01:00:00.000+02:00', 'smsin': 8.1242, 'callin': 3.5377, 'internet': 512.4052}}, {'_index': 'cdr_1', '_type': '_doc', '_id': 'zSPBt24BIq6EnoN8H03q', '_score': 1.0, '_source': {'datetime': '2013-11-01 01:00:00', '@timestamp': '2013-11-01T01:00:00.000+02:00', 'countrycode': 90, 'CellID': 7661, 'internet': 0.5983}}, {'_index': 'cdr_1', '_type': '_doc', '_id': '0CPBt24BIq6EnoN8H03q', '_score': 1.0, '_source': {'callout': 3.3812, 'smsout': 8.5215, 'countrycode': 39, 'CellID': 7662, 'datetime': '2013-11-01 01:00:00', '@timestamp': '2013-11-01T01:00:00.000+02:00', 'smsin': 8.1093, 'callin': 3.5494, 'internet': 515.7002}}, {'_index': 'cdr_1', '_type': '_doc', '_id': '0SPBt24BIq6EnoN8H03q', '_score': 1.0, '_source': {'datetime': '2013-11-01 01:00:00', '@timestamp': '2013-11-01T01:00:00.000+02:00', 'countrycode': 90, 'CellID': 7662, 'internet': 0.5983}}, {'_index': 'cdr_1', '_type': '_doc', '_id': '1CPBt24BIq6EnoN8H03q', '_score': 1.0, '_source': {'callout': 2.4032, 'smsout': 5.4528, 'countrycode': 39, 'CellID': 7663, 'datetime': '2013-11-01 01:00:00', '@timestamp': '2013-11-01T01:00:00.000+02:00', 'smsin': 5.2788, 'callin': 2.8156, 'internet': 469.0413}}, {'_index': 'cdr_1', '_type': '_doc', '_id': '1SPBt24BIq6EnoN8H03q', '_score': 1.0, '_source': {'datetime': '2013-11-01 01:00:00', '@timestamp': '2013-11-01T01:00:00.000+02:00', 'countrycode': 90, 'CellID': 7663, 'internet': 0.2481}}, {'_index': 'cdr_1', '_type': '_doc', '_id': '2CPBt24BIq6EnoN8H03q', '_score': 1.0, '_source': {'callout': 1.3092, 'smsout': 4.2964, 'countrycode': 39, 'CellID': 7664, 'datetime': '2013-11-01 01:00:00', '@timestamp': '2013-11-01T01:00:00.000+02:00', 'smsin': 3.3378, 'callin': 2.1477, 'internet': 429.1337}}, {'_index': 'cdr_1', '_type': '_doc', '_id': '2yPBt24BIq6EnoN8H03q', '_score': 1.0, '_source': {'callout': 1.8942, 'smsout': 7.0483, 'countrycode': 39, 'CellID': 7665, 'datetime': '2013-11-01 01:00:00', '@timestamp': '2013-11-01T01:00:00.000+02:00', 'smsin': 5.8436, 'callin': 2.264, 'internet': 480.7015}}, {'_index': 'cdr_1', '_type': '_doc', '_id': '3CPBt24BIq6EnoN8H03q', '_score': 1.0, '_source': {'datetime': '2013-11-01 01:00:00', '@timestamp': '2013-11-01T01:00:00.000+02:00', 'countrycode': 49, 'CellID': 7665, 'internet': 0.5}}, {'_index': 'cdr_1', '_type': '_doc', '_id': '3yPBt24BIq6EnoN8H03q', '_score': 1.0, '_source': {'callout': 2.9305, 'smsout': 6.3089, 'countrycode': 39, 'CellID': 7666, 'datetime': '2013-11-01 01:00:00', '@timestamp': '2013-11-01T01:00:00.000+02:00', 'smsin': 6.3877, 'callin': 3.0689, 'internet': 494.7546}}, {'_index': 'cdr_1', '_type': '_doc', '_id': '4CPBt24BIq6EnoN8H03q', '_score': 1.0, '_source': {'datetime': '2013-11-01 01:00:00', '@timestamp': '2013-11-01T01:00:00.000+02:00', 'countrycode': 49, 'CellID': 7666, 'internet': 0.7886}}, {'_index': 'cdr_1', '_type': '_doc', '_id': '4yPBt24BIq6EnoN8H03q', '_score': 1.0, '_source': {'callout': 3.6993, 'smsout': 19.8353, 'countrycode': 39, 'CellID': 7667, 'datetime': '2013-11-01 01:00:00', '@timestamp': '2013-11-01T01:00:00.000+02:00', 'smsin': 6.3993, 'callin': 8.7424, 'internet': 574.5305}}, {'_index': 'cdr_1', '_type': '_doc', '_id': '5CPBt24BIq6EnoN8H03q', '_score': 1.0, '_source': {'datetime': '2013-11-01 01:00:00', '@timestamp': '2013-11-01T01:00:00.000+02:00', 'countrycode': 49, 'CellID': 7667, 'internet': 0.3683}}, {'_index': 'cdr_1', '_type': '_doc', '_id': '5yPBt24BIq6EnoN8H03q', '_score': 1.0, '_source': {'callout': 4.9688, 'smsout': 24.8281, 'countrycode': 39, 'CellID': 7668, 'datetime': '2013-11-01 01:00:00', '@timestamp': '2013-11-01T01:00:00.000+02:00', 'smsin': 6.3868, 'callin': 11.1472, 'internet': 919.7904}}, {'_index': 'cdr_1', '_type': '_doc', '_id': '6SPBt24BIq6EnoN8H03q', '_score': 1.0, '_source': {'callout': 4.7545, 'smsout': 14.8882, 'countrycode': 39, 'CellID': 7669, 'datetime': '2013-11-01 01:00:00', '@timestamp': '2013-11-01T01:00:00.000+02:00', 'smsin': 4.1846, 'callin': 5.3445, 'internet': 750.1572}}, {'_index': 'cdr_1', '_type': '_doc', '_id': '6iPBt24BIq6EnoN8H03q', '_score': 1.0, '_source': {'callout': 4.6869, 'smsout': 11.2962, 'countrycode': 39, 'CellID': 7670, 'datetime': '2013-11-01 01:00:00', '@timestamp': '2013-11-01T01:00:00.000+02:00', 'smsin': 2.5373, 'callin': 3.1196, 'internet': 551.8492}}, {'_index': 'cdr_1', '_type': '_doc', '_id': '7CPBt24BIq6EnoN8H03q', '_score': 1.0, '_source': {'callout': 2.9225, 'smsout': 7.2487, 'countrycode': 39, 'CellID': 7671, 'datetime': '2013-11-01 01:00:00', '@timestamp': '2013-11-01T01:00:00.000+02:00', 'smsin': 4.1496, 'callin': 2.9324, 'internet': 452.7937}}, {'_index': 'cdr_1', '_type': '_doc', '_id': '7SPBt24BIq6EnoN8H03q', '_score': 1.0, '_source': {'datetime': '2013-11-01 01:00:00', '@timestamp': '2013-11-01T01:00:00.000+02:00', 'countrycode': 49, 'CellID': 7671, 'internet': 0.5447}}, {'_index': 'cdr_1', '_type': '_doc', '_id': '7iPBt24BIq6EnoN8H03q', '_score': 1.0, '_source': {'datetime': '2013-11-01 01:00:00', '@timestamp': '2013-11-01T01:00:00.000+02:00', 'countrycode': 88239, 'CellID': 7671, 'internet': 0.5447}}, {'_index': 'cdr_1', '_type': '_doc', '_id': '8CPBt24BIq6EnoN8H03q', '_score': 1.0, '_source': {'callout': 2.7749, 'smsout': 3.3428, 'countrycode': 39, 'CellID': 7672, 'datetime': '2013-11-01 01:00:00', '@timestamp': '2013-11-01T01:00:00.000+02:00', 'smsin': 5.5332, 'callin': 2.4611, 'internet': 335.8175}}, {'_index': 'cdr_1', '_type': '_doc', '_id': '8SPBt24BIq6EnoN8H03q', '_score': 1.0, '_source': {'datetime': '2013-11-01 01:00:00', '@timestamp': '2013-11-01T01:00:00.000+02:00', 'countrycode': 49, 'CellID': 7672, 'internet': 1.0689}}, {'_index': 'cdr_1', '_type': '_doc', '_id': '8iPBt24BIq6EnoN8H03q', '_score': 1.0, '_source': {'datetime': '2013-11-01 01:00:00', '@timestamp': '2013-11-01T01:00:00.000+02:00', 'countrycode': 88239, 'CellID': 7672, 'internet': 1.0689}}, {'_index': 'cdr_1', '_type': '_doc', '_id': '9CPBt24BIq6EnoN8H03q', '_score': 1.0, '_source': {'callout': 5.3462, 'smsout': 2.4237, 'countrycode': 39, 'CellID': 7673, 'datetime': '2013-11-01 01:00:00', '@timestamp': '2013-11-01T01:00:00.000+02:00', 'smsin': 4.1739, 'callin': 3.1115, 'internet': 293.3496}}, {'_index': 'cdr_1', '_type': '_doc', '_id': '9SPBt24BIq6EnoN8H03q', '_score': 1.0, '_source': {'datetime': '2013-11-01 01:00:00', '@timestamp': '2013-11-01T01:00:00.000+02:00', 'countrycode': 49, 'CellID': 7673, 'internet': 0.3607}}, {'_index': 'cdr_1', '_type': '_doc', '_id': '9iPBt24BIq6EnoN8H03q', '_score': 1.0, '_source': {'datetime': '2013-11-01 01:00:00', '@timestamp': '2013-11-01T01:00:00.000+02:00', 'countrycode': 88239, 'CellID': 7673, 'internet': 0.3607}}, {'_index': 'cdr_1', '_type': '_doc', '_id': '-CPBt24BIq6EnoN8H03q', '_score': 1.0, '_source': {'callout': 5.1009, 'smsout': 1.6525, 'countrycode': 39, 'CellID': 7674, 'datetime': '2013-11-01 01:00:00', '@timestamp': '2013-11-01T01:00:00.000+02:00', 'smsin': 3.0682, 'callin': 2.3847, 'internet': 282.4965}}, {'_index': 'cdr_1', '_type': '_doc', '_id': '-iPBt24BIq6EnoN8H03q', '_score': 1.0, '_source': {'callout': 4.7574, 'smsout': 1.6978, 'countrycode': 39, 'CellID': 7675, 'datetime': '2013-11-01 01:00:00', '@timestamp': '2013-11-01T01:00:00.000+02:00', 'smsin': 2.726, 'callin': 0.8223, 'internet': 295.6097}}, {'_index': 'cdr_1', '_type': '_doc', '_id': '_CPBt24BIq6EnoN8H03q', '_score': 1.0, '_source': {'callout': 6.2986, 'smsout': 2.0399, 'countrycode': 39, 'CellID': 7676, 'datetime': '2013-11-01 01:00:00', '@timestamp': '2013-11-01T01:00:00.000+02:00', 'smsin': 2.4744, 'callin': 0.4858, 'internet': 263.6762}}, {'_index': 'cdr_1', '_type': '_doc', '_id': '_iPBt24BIq6EnoN8H03q', '_score': 1.0, '_source': {'callout': 3.9938, 'smsout': 2.4486, 'countrycode': 39, 'CellID': 7677, 'datetime': '2013-11-01 01:00:00', '@timestamp': '2013-11-01T01:00:00.000+02:00', 'smsin': 2.02, 'callin': 0.7759, 'internet': 248.9363}}, {'_index': 'cdr_1', '_type': '_doc', '_id': '_yPBt24BIq6EnoN8H03q', '_score': 1.0, '_source': {'datetime': '2013-11-01 01:00:00', '@timestamp': '2013-11-01T01:00:00.000+02:00', 'countrycode': 46, 'CellID': 7677, 'internet': 0.0361}}, {'_index': 'cdr_1', '_type': '_doc', '_id': 'ACPBt24BIq6EnoN8H07q', '_score': 1.0, '_source': {'datetime': '2013-11-01 01:00:00', '@timestamp': '2013-11-01T01:00:00.000+02:00', 'countrycode': 49, 'CellID': 7677, 'internet': 0.0361}}, {'_index': 'cdr_1', '_type': '_doc', '_id': 'BSPBt24BIq6EnoN8H07q', '_score': 1.0, '_source': {'callout': 3.2632, 'smsout': 7.0944, 'countrycode': 39, 'CellID': 7678, 'datetime': '2013-11-01 01:00:00', '@timestamp': '2013-11-01T01:00:00.000+02:00', 'smsin': 4.7384, 'callin': 2.1257, 'internet': 309.3006}}, {'_index': 'cdr_1', '_type': '_doc', '_id': 'BiPBt24BIq6EnoN8H07q', '_score': 1.0, '_source': {'datetime': '2013-11-01 01:00:00', '@timestamp': '2013-11-01T01:00:00.000+02:00', 'countrycode': 46, 'CellID': 7678, 'internet': 0.1385}}, {'_index': 'cdr_1', '_type': '_doc', '_id': 'ByPBt24BIq6EnoN8H07q', '_score': 1.0, '_source': {'datetime': '2013-11-01 01:00:00', '@timestamp': '2013-11-01T01:00:00.000+02:00', 'countrycode': 49, 'CellID': 7678, 'internet': 0.1385}}, {'_index': 'cdr_1', '_type': '_doc', '_id': 'CyPBt24BIq6EnoN8H07q', '_score': 1.0, '_source': {'datetime': '2013-11-01 01:00:00', '@timestamp': '2013-11-01T01:00:00.000+02:00', 'countrycode': 88239, 'CellID': 7678, 'internet': 0.0804}}, {'_index': 'cdr_1', '_type': '_doc', '_id': 'DiPBt24BIq6EnoN8H07q', '_score': 1.0, '_source': {'callout': 2.1701, 'smsout': 8.4349, 'countrycode': 39, 'CellID': 7679, 'datetime': '2013-11-01 01:00:00', '@timestamp': '2013-11-01T01:00:00.000+02:00', 'smsin': 6.5768, 'callin': 2.1636, 'internet': 326.2831}}, {'_index': 'cdr_1', '_type': '_doc', '_id': 'DyPBt24BIq6EnoN8H07q', '_score': 1.0, '_source': {'datetime': '2013-11-01 01:00:00', '@timestamp': '2013-11-01T01:00:00.000+02:00', 'countrycode': 46, 'CellID': 7679, 'internet': 0.1229}}, {'_index': 'cdr_1', '_type': '_doc', '_id': 'ECPBt24BIq6EnoN8H07q', '_score': 1.0, '_source': {'datetime': '2013-11-01 01:00:00', '@timestamp': '2013-11-01T01:00:00.000+02:00', 'countrycode': 49, 'CellID': 7679, 'internet': 0.1229}}, {'_index': 'cdr_1', '_type': '_doc', '_id': 'FCPBt24BIq6EnoN8H07q', '_score': 1.0, '_source': {'datetime': '2013-11-01 01:00:00', '@timestamp': '2013-11-01T01:00:00.000+02:00', 'countrycode': 88239, 'CellID': 7679, 'internet': 0.2239}}, {'_index': 'cdr_1', '_type': '_doc', '_id': 'FyPBt24BIq6EnoN8H07q', '_score': 1.0, '_source': {'callout': 0.8653, 'smsout': 5.4224, 'countrycode': 39, 'CellID': 7680, 'datetime': '2013-11-01 01:00:00', '@timestamp': '2013-11-01T01:00:00.000+02:00', 'smsin': 5.3459, 'callin': 1.1667, 'internet': 300.3195}}, {'_index': 'cdr_1', '_type': '_doc', '_id': 'GCPBt24BIq6EnoN8H07q', '_score': 1.0, '_source': {'datetime': '2013-11-01 01:00:00', '@timestamp': '2013-11-01T01:00:00.000+02:00', 'countrycode': 46, 'CellID': 7680, 'internet': 0.0253}}, {'_index': 'cdr_1', '_type': '_doc', '_id': 'GSPBt24BIq6EnoN8H07q', '_score': 1.0, '_source': {'datetime': '2013-11-01 01:00:00', '@timestamp': '2013-11-01T01:00:00.000+02:00', 'countrycode': 49, 'CellID': 7680, 'internet': 0.0253}}, {'_index': 'cdr_1', '_type': '_doc', '_id': 'HCPBt24BIq6EnoN8H07q', '_score': 1.0, '_source': {'datetime': '2013-11-01 01:00:00', '@timestamp': '2013-11-01T01:00:00.000+02:00', 'countrycode': 88239, 'CellID': 7680, 'internet': 0.2239}}, {'_index': 'cdr_1', '_type': '_doc', '_id': 'HyPBt24BIq6EnoN8H07q', '_score': 1.0, '_source': {'callout': 1.308, 'smsout': 10.3928, 'countrycode': 39, 'CellID': 7681, 'datetime': '2013-11-01 01:00:00', '@timestamp': '2013-11-01T01:00:00.000+02:00', 'smsin': 4.8916, 'callin': 1.6154, 'internet': 309.3414}}, {'_index': 'cdr_1', '_type': '_doc', '_id': 'ICPBt24BIq6EnoN8H07q', '_score': 1.0, '_source': {'datetime': '2013-11-01 01:00:00', '@timestamp': '2013-11-01T01:00:00.000+02:00', 'countrycode': 46, 'CellID': 7681, 'internet': 0.0283}}, {'_index': 'cdr_1', '_type': '_doc', '_id': 'ISPBt24BIq6EnoN8H07q', '_score': 1.0, '_source': {'datetime': '2013-11-01 01:00:00', '@timestamp': '2013-11-01T01:00:00.000+02:00', 'countrycode': 49, 'CellID': 7681, 'internet': 0.1271}}, {'_index': 'cdr_1', '_type': '_doc', '_id': 'JCPBt24BIq6EnoN8H07q', '_score': 1.0, '_source': {'datetime': '2013-11-01 01:00:00', '@timestamp': '2013-11-01T01:00:00.000+02:00', 'countrycode': 88239, 'CellID': 7681, 'internet': 0.2239}}, {'_index': 'cdr_1', '_type': '_doc', '_id': 'JyPBt24BIq6EnoN8H07q', '_score': 1.0, '_source': {'callout': 1.8955, 'smsout': 10.6169, 'countrycode': 39, 'CellID': 7682, 'datetime': '2013-11-01 01:00:00', '@timestamp': '2013-11-01T01:00:00.000+02:00', 'smsin': 3.0656, 'callin': 1.681, 'internet': 282.8428}}, {'_index': 'cdr_1', '_type': '_doc', '_id': 'KCPBt24BIq6EnoN8H07q', '_score': 1.0, '_source': {'datetime': '2013-11-01 01:00:00', '@timestamp': '2013-11-01T01:00:00.000+02:00', 'countrycode': 46, 'CellID': 7682, 'internet': 0.0028}}, {'_index': 'cdr_1', '_type': '_doc', '_id': 'KSPBt24BIq6EnoN8H07q', '_score': 1.0, '_source': {'datetime': '2013-11-01 01:00:00', '@timestamp': '2013-11-01T01:00:00.000+02:00', 'countrycode': 49, 'CellID': 7682, 'internet': 0.1358}}, {'_index': 'cdr_1', '_type': '_doc', '_id': 'LCPBt24BIq6EnoN8H07q', '_score': 1.0, '_source': {'datetime': '2013-11-01 01:00:00', '@timestamp': '2013-11-01T01:00:00.000+02:00', 'countrycode': 88239, 'CellID': 7682, 'internet': 0.1891}}, {'_index': 'cdr_1', '_type': '_doc', '_id': 'LyPBt24BIq6EnoN8H07q', '_score': 1.0, '_source': {'callout': 1.8074, 'smsout': 10.8806, 'countrycode': 39, 'CellID': 7683, 'datetime': '2013-11-01 01:00:00', '@timestamp': '2013-11-01T01:00:00.000+02:00', 'smsin': 2.2685, 'callin': 1.3511, 'internet': 239.6702}}, {'_index': 'cdr_1', '_type': '_doc', '_id': 'MCPBt24BIq6EnoN8H07q', '_score': 1.0, '_source': {'datetime': '2013-11-01 01:00:00', '@timestamp': '2013-11-01T01:00:00.000+02:00', 'countrycode': 49, 'smsin': 0.0029, 'CellID': 7683, 'internet': 0.1642}}, {'_index': 'cdr_1', '_type': '_doc', '_id': 'MSPBt24BIq6EnoN8H07q', '_score': 1.0, '_source': {'datetime': '2013-11-01 01:00:00', '@timestamp': '2013-11-01T01:00:00.000+02:00', 'countrycode': 88239, 'CellID': 7683, 'internet': 0.0604}}, {'_index': 'cdr_1', '_type': '_doc', '_id': 'MyPBt24BIq6EnoN8H07q', '_score': 1.0, '_source': {'callout': 1.9351, 'smsout': 8.6193, 'countrycode': 39, 'CellID': 7684, 'datetime': '2013-11-01 01:00:00', '@timestamp': '2013-11-01T01:00:00.000+02:00', 'smsin': 28.7872, 'callin': 0.6841, 'internet': 127.7174}}, {'_index': 'cdr_1', '_type': '_doc', '_id': 'NCPBt24BIq6EnoN8H07q', '_score': 1.0, '_source': {'datetime': '2013-11-01 01:00:00', '@timestamp': '2013-11-01T01:00:00.000+02:00', 'countrycode': 49, 'smsin': 0.1556, 'CellID': 7684, 'internet': 0.2488}}, {'_index': 'cdr_1', '_type': '_doc', '_id': 'NiPBt24BIq6EnoN8H07q', '_score': 1.0, '_source': {'callout': 1.947, 'smsout': 5.4018, 'countrycode': 39, 'CellID': 7685, 'datetime': '2013-11-01 01:00:00', '@timestamp': '2013-11-01T01:00:00.000+02:00', 'smsin': 41.4118, 'callin': 0.4913, 'internet': 127.5957}}, {'_index': 'cdr_1', '_type': '_doc', '_id': 'NyPBt24BIq6EnoN8H07q', '_score': 1.0, '_source': {'datetime': '2013-11-01 01:00:00', '@timestamp': '2013-11-01T01:00:00.000+02:00', 'countrycode': 49, 'smsin': 0.2238, 'CellID': 7685, 'internet': 0.2347}}, {'_index': 'cdr_1', '_type': '_doc', '_id': 'OSPBt24BIq6EnoN8H07q', '_score': 1.0, '_source': {'datetime': '2013-11-01 01:00:00', '@timestamp': '2013-11-01T01:00:00.000+02:00', 'countrycode': 1, 'CellID': 7686, 'internet': 0.0086}}, {'_index': 'cdr_1', '_type': '_doc', '_id': 'OiPBt24BIq6EnoN8H07q', '_score': 1.0, '_source': {'callout': 1.877, 'smsout': 4.8082, 'countrycode': 39, 'CellID': 7686, 'datetime': '2013-11-01 01:00:00', '@timestamp': '2013-11-01T01:00:00.000+02:00', 'smsin': 41.397, 'callin': 0.5216, 'internet': 139.2493}}, {'_index': 'cdr_1', '_type': '_doc', '_id': 'OyPBt24BIq6EnoN8H07q', '_score': 1.0, '_source': {'datetime': '2013-11-01 01:00:00', '@timestamp': '2013-11-01T01:00:00.000+02:00', 'countrycode': 49, 'smsin': 0.2228, 'CellID': 7686, 'internet': 0.2314}}, {'_index': 'cdr_1', '_type': '_doc', '_id': 'PSPBt24BIq6EnoN8H07q', '_score': 1.0, '_source': {'datetime': '2013-11-01 01:00:00', '@timestamp': '2013-11-01T01:00:00.000+02:00', 'countrycode': 1, 'CellID': 7687, 'internet': 0.0498}}, {'_index': 'cdr_1', '_type': '_doc', '_id': 'PiPBt24BIq6EnoN8H07q', '_score': 1.0, '_source': {'callout': 1.4425, 'smsout': 3.9112, 'countrycode': 39, 'CellID': 7687, 'datetime': '2013-11-01 01:00:00', '@timestamp': '2013-11-01T01:00:00.000+02:00', 'smsin': 33.7467, 'callin': 0.9686, 'internet': 235.0701}}, {'_index': 'cdr_1', '_type': '_doc', '_id': 'PyPBt24BIq6EnoN8H07q', '_score': 1.0, '_source': {'datetime': '2013-11-01 01:00:00', '@timestamp': '2013-11-01T01:00:00.000+02:00', 'countrycode': 49, 'smsin': 0.1746, 'CellID': 7687, 'internet': 0.2244}}]\n"
     ]
    }
   ],
   "source": [
    "print (data)"
   ]
  },
  {
   "cell_type": "code",
   "execution_count": 29,
   "metadata": {},
   "outputs": [
    {
     "name": "stdout",
     "output_type": "stream",
     "text": [
      "{\"scroll\": \"2m\", \"_scroll_id\": \"DXF1ZXJ5QW5kRmV0Y2gBAAAAAAAANoAWY2FzVE96d1FTcy10M3RKTFVaOURxZw==\"}\n",
      "Error: Elastic Search Scroll: {'error': {'root_cause': [{'type': 'parsing_exception', 'reason': 'Unknown key for a VALUE_STRING in [scroll].', 'line': 1, 'col': 12}], 'type': 'parsing_exception', 'reason': 'Unknown key for a VALUE_STRING in [scroll].', 'line': 1, 'col': 12}, 'status': 400}\n"
     ]
    }
   ],
   "source": [
    "#loop and retrive data from ES and store them in an SQLite DB\n",
    "while data:\n",
    "\n",
    "    #print (data)\n",
    "      \n",
    "    # scroll to get next batch data\n",
    "    scroll_payload = json.dumps({'scroll': '2m','_scroll_id': _scroll_id})\n",
    "    print(scroll_payload)\n",
    "        \n",
    "    scroll_res = requests.request(\n",
    "    \"POST\", elastic_url_1,\n",
    "    data=scroll_payload,\n",
    "    headers=headers\n",
    "    )\n",
    "    \n",
    "    #normalize data from raw json to columns\n",
    "    result_dict_1 = json_normalize(data)\n",
    "    \n",
    "    #reform a specific dataset \n",
    "    #dataset = DataFrame(result_dict_1,columns=['_source.@timestamp','_source.CellID','_source.callin','_source.callout',\n",
    "    #                                      '_source.countrycode','_source.datetime','_source.smsin','_source.smsout',\n",
    "    #                                       '_source.internet'])\n",
    "    \n",
    "    dataset = DataFrame(result_dict_1,columns=['_id','_source.@timestamp','_source.CellID','_source.countrycode',\n",
    "                                               '_source.datetime','_source.internet'])\n",
    "    \n",
    "    #rename columns\n",
    "    #dataset.columns=['@timestamp','CellID','callin','callout','countrycode','datetime',\n",
    "    #                 'smsin','smsout','internet']\n",
    "    \n",
    "    dataset.columns=['id','@timestamp','CellID','countrycode','datetime','internet']\n",
    "    \n",
    "    #print(dataset)\n",
    "    \n",
    "    #connect to sqlite database\n",
    "    connex = db.connect(\"store.db\") \n",
    "    cur = connex.cursor() \n",
    "    \n",
    "    #export dataset to sqlite\n",
    "    dataset.to_sql(name=\"cdr_dataset\", con=connex, if_exists=\"append\", index=False)   \n",
    "\n",
    "    #scroll data with unique id (avoid duplicates)           \n",
    "    try:\n",
    "        res_json = scroll_res.json()\n",
    "        data = res_json['hits']['hits']\n",
    "        _scroll_id = res_json['_scroll_id']\n",
    "\n",
    "    except KeyError:\n",
    "        data = []\n",
    "        _scroll_id = None\n",
    "        err_msg = 'Error: Elastic Search Scroll: %s'\n",
    "        print (err_msg % str(scroll_res.json()))"
   ]
  },
  {
   "cell_type": "code",
   "execution_count": 12,
   "metadata": {},
   "outputs": [],
   "source": [
    "##Data retrive for 2nd Index##"
   ]
  },
  {
   "cell_type": "code",
   "execution_count": 13,
   "metadata": {},
   "outputs": [],
   "source": [
    "r2 = requests.request(\n",
    "    \"POST\",\n",
    "    elastic_url_2,\n",
    "    data=json.dumps(payload),\n",
    "    headers=headers)"
   ]
  },
  {
   "cell_type": "code",
   "execution_count": 14,
   "metadata": {},
   "outputs": [],
   "source": [
    "# first batch data for 2nd index\n",
    "try:\n",
    "    res_json = r2.json()\n",
    "    data = res_json['hits']['hits']\n",
    "    _scroll_id = res_json['_scroll_id']\n",
    "\n",
    "except KeyError:\n",
    "    data = []\n",
    "    _scroll_id = None\n",
    "    print ('Error: Elastic Search: %s' % str(r2.json()))"
   ]
  },
  {
   "cell_type": "code",
   "execution_count": 15,
   "metadata": {},
   "outputs": [
    {
     "ename": "NameError",
     "evalue": "name 'scroll_api_url' is not defined",
     "output_type": "error",
     "traceback": [
      "\u001b[1;31m---------------------------------------------------------------------------\u001b[0m",
      "\u001b[1;31mNameError\u001b[0m                                 Traceback (most recent call last)",
      "\u001b[1;32m<ipython-input-15-7e37fbc56847>\u001b[0m in \u001b[0;36m<module>\u001b[1;34m\u001b[0m\n\u001b[0;32m     11\u001b[0m \u001b[1;33m\u001b[0m\u001b[0m\n\u001b[0;32m     12\u001b[0m     scroll_res = requests.request(\n\u001b[1;32m---> 13\u001b[1;33m     \u001b[1;34m\"POST\"\u001b[0m\u001b[1;33m,\u001b[0m \u001b[0mscroll_api_url\u001b[0m\u001b[1;33m,\u001b[0m\u001b[1;33m\u001b[0m\u001b[1;33m\u001b[0m\u001b[0m\n\u001b[0m\u001b[0;32m     14\u001b[0m     \u001b[0mdata\u001b[0m\u001b[1;33m=\u001b[0m\u001b[0mscroll_payload\u001b[0m\u001b[1;33m,\u001b[0m\u001b[1;33m\u001b[0m\u001b[1;33m\u001b[0m\u001b[0m\n\u001b[0;32m     15\u001b[0m     \u001b[0mheaders\u001b[0m\u001b[1;33m=\u001b[0m\u001b[0mheaders\u001b[0m\u001b[1;33m\u001b[0m\u001b[1;33m\u001b[0m\u001b[0m\n",
      "\u001b[1;31mNameError\u001b[0m: name 'scroll_api_url' is not defined"
     ]
    }
   ],
   "source": [
    "#loop and retrive data from ES and store them in an SQLite DB\n",
    "while data:\n",
    "\n",
    "    #print (data)\n",
    "      \n",
    "    # scroll to get next batch data\n",
    "    scroll_payload = json.dumps({\n",
    "    'scroll': '1m',\n",
    "    'scroll_id': _scroll_id\n",
    "    })\n",
    "        \n",
    "    scroll_res = requests.request(\n",
    "    \"POST\", scroll_api_url,\n",
    "    data=scroll_payload,\n",
    "    headers=headers\n",
    "    )\n",
    "    \n",
    "    #normalize data from raw json to columns\n",
    "    result_dict_1 = json_normalize(data)\n",
    "    \n",
    "    #reform a specific dataset \n",
    "    #dataset = DataFrame(result_dict_1,columns=['_source.@timestamp','_source.CellID','_source.callin','_source.callout',\n",
    "    #                                      '_source.countrycode','_source.datetime','_source.smsin','_source.smsout',\n",
    "    #                                       '_source.internet'])\n",
    "    \n",
    "    dataset = DataFrame(result_dict_1,columns=['_id','_source.@timestamp','_source.CellID','_source.countrycode',\n",
    "                                               '_source.datetime','_source.internet'])\n",
    "    \n",
    "    #rename columns\n",
    "    #dataset.columns=['@timestamp','CellID','callin','callout','countrycode','datetime',\n",
    "    #                 'smsin','smsout','internet']\n",
    "    \n",
    "    dataset.columns=['id','@timestamp','CellID','countrycode','datetime','internet']\n",
    "    \n",
    "    \n",
    "    #print(dataset)\n",
    "    \n",
    "    #connect to sqlite database\n",
    "    connex = db.connect(\"store.db\") \n",
    "    cur = connex.cursor() \n",
    "    \n",
    "    #export dataset to sqlite\n",
    "    dataset.to_sql(name=\"cdr_dataset\", con=connex, if_exists=\"append\", index=False)   \n",
    "\n",
    "    #scroll data with unique id (avoid duplicates)           \n",
    "    try:\n",
    "        res_json = scroll_res.json()\n",
    "        data = res_json['hits']['hits']\n",
    "        _scroll_id = res_json['_scroll_id']\n",
    "\n",
    "    except KeyError:\n",
    "        data = []\n",
    "        _scroll_id = None\n",
    "        err_msg = 'Error: Elastic Search Scroll: %s'\n",
    "        print (err_msg % str(scroll_res.json()))"
   ]
  },
  {
   "cell_type": "code",
   "execution_count": null,
   "metadata": {},
   "outputs": [],
   "source": [
    "##Data retrive for 3rd Index##"
   ]
  },
  {
   "cell_type": "code",
   "execution_count": null,
   "metadata": {},
   "outputs": [],
   "source": [
    "r3 = requests.request(\n",
    "    \"POST\",\n",
    "    elastic_url_3,\n",
    "    data=json.dumps(payload),\n",
    "    headers=headers)"
   ]
  },
  {
   "cell_type": "code",
   "execution_count": null,
   "metadata": {},
   "outputs": [],
   "source": [
    "# first batch data for 3rd index\n",
    "try:\n",
    "    res_json = r3.json()\n",
    "    data = res_json['hits']['hits']\n",
    "    _scroll_id = res_json['_scroll_id']\n",
    "\n",
    "except KeyError:\n",
    "    data = []\n",
    "    _scroll_id = None\n",
    "    print ('Error: Elastic Search: %s' % str(r3.json()))"
   ]
  },
  {
   "cell_type": "code",
   "execution_count": null,
   "metadata": {},
   "outputs": [],
   "source": [
    "#loop and retrive data from ES and store them in an SQLite DB\n",
    "while data:\n",
    "\n",
    "    #print (data)\n",
    "      \n",
    "    # scroll to get next batch data\n",
    "    scroll_payload = json.dumps({\n",
    "    'scroll': '1m',\n",
    "    'scroll_id': _scroll_id\n",
    "    })\n",
    "        \n",
    "    scroll_res = requests.request(\n",
    "    \"POST\", scroll_api_url,\n",
    "    data=scroll_payload,\n",
    "    headers=headers\n",
    "    )\n",
    "    \n",
    "    #normalize data from raw json to columns\n",
    "    result_dict_1 = json_normalize(data)\n",
    "    \n",
    "    #reform a specific dataset \n",
    "    #dataset = DataFrame(result_dict_1,columns=['_source.@timestamp','_source.CellID','_source.callin','_source.callout',\n",
    "    #                                      '_source.countrycode','_source.datetime','_source.smsin','_source.smsout',\n",
    "    #                                       '_source.internet'])\n",
    "    \n",
    "    dataset = DataFrame(result_dict_1,columns=['_id','_source.@timestamp','_source.CellID','_source.countrycode',\n",
    "                                               '_source.datetime','_source.internet'])\n",
    "    \n",
    "    #rename columns\n",
    "    #dataset.columns=['@timestamp','CellID','callin','callout','countrycode','datetime',\n",
    "    #                 'smsin','smsout','internet']\n",
    "    \n",
    "    dataset.columns=['id','@timestamp','CellID','countrycode','datetime','internet']\n",
    "    \n",
    "    \n",
    "    #print(dataset)\n",
    "    \n",
    "    #connect to sqlite database\n",
    "    connex = db.connect(\"store.db\") \n",
    "    cur = connex.cursor() \n",
    "    \n",
    "    #export dataset to sqlite\n",
    "    dataset.to_sql(name=\"cdr_dataset\", con=connex, if_exists=\"append\", index=False)   \n",
    "\n",
    "    #scroll data with unique id (avoid duplicates)           \n",
    "    try:\n",
    "        res_json = scroll_res.json()\n",
    "        data = res_json['hits']['hits']\n",
    "        _scroll_id = res_json['_scroll_id']\n",
    "\n",
    "    except KeyError:\n",
    "        data = []\n",
    "        _scroll_id = None\n",
    "        err_msg = 'Error: Elastic Search Scroll: %s'\n",
    "        print (err_msg % str(scroll_res.json()))"
   ]
  },
  {
   "cell_type": "code",
   "execution_count": null,
   "metadata": {},
   "outputs": [],
   "source": [
    "################################################################################################################################"
   ]
  },
  {
   "cell_type": "code",
   "execution_count": null,
   "metadata": {},
   "outputs": [],
   "source": []
  },
  {
   "cell_type": "code",
   "execution_count": null,
   "metadata": {},
   "outputs": [],
   "source": [
    "#connection to elasticsearch (localhost). two indeces connection with scroll time 1 minute\n",
    "elastic_url_4 = 'http://localhost:9200/mi_1/_search?scroll=1m'\n",
    "elastic_url_5 = 'http://localhost:9200/mi_2/_search?scroll=1m'\n",
    "elastic_url_6 = 'http://localhost:9200/mi_3/_search?scroll=1m'\n",
    "\n",
    "scroll_api_url = 'http://localhost:9200/_search/scroll'\n",
    "headers = {'Content-Type': 'application/json'}"
   ]
  },
  {
   "cell_type": "code",
   "execution_count": null,
   "metadata": {},
   "outputs": [],
   "source": [
    "# select data with provinceName <> Null\n",
    "payload = {    \n",
    "\"size\": 100,\n",
    "     \"query\" : {\n",
    "      \"constant_score\" : {\n",
    "         \"filter\" : {\n",
    "            \"exists\" : {\n",
    "               \"field\" : \"provinceName\"\n",
    "            }\n",
    "         }\n",
    "      }\n",
    "   }\n",
    "}"
   ]
  },
  {
   "cell_type": "code",
   "execution_count": null,
   "metadata": {},
   "outputs": [],
   "source": [
    "##Data retrive for 1st mi Index##"
   ]
  },
  {
   "cell_type": "code",
   "execution_count": null,
   "metadata": {},
   "outputs": [],
   "source": [
    "r4 = requests.request(\n",
    "    \"POST\",\n",
    "    elastic_url_4,\n",
    "    data=json.dumps(payload),\n",
    "    headers=headers)"
   ]
  },
  {
   "cell_type": "code",
   "execution_count": null,
   "metadata": {},
   "outputs": [],
   "source": [
    "# first batch data for 1st mi Index\n",
    "try:\n",
    "    res_json = r4.json()\n",
    "    data = res_json['hits']['hits']\n",
    "    _scroll_id = res_json['_scroll_id']\n",
    "\n",
    "except KeyError:\n",
    "    data = []\n",
    "    _scroll_id = None\n",
    "    print ('Error: Elastic Search: %s' % str(r4.json()))"
   ]
  },
  {
   "cell_type": "code",
   "execution_count": null,
   "metadata": {},
   "outputs": [],
   "source": [
    "#loop and retrive data from ES and store them in an SQLite DB\n",
    "while data:\n",
    "\n",
    "    #print (data)\n",
    "      \n",
    "    # scroll to get next batch data\n",
    "    scroll_payload = json.dumps({\n",
    "    'scroll': '1m',\n",
    "    'scroll_id': _scroll_id\n",
    "    })\n",
    "        \n",
    "    scroll_res = requests.request(\n",
    "    \"POST\", scroll_api_url,\n",
    "    data=scroll_payload,\n",
    "    headers=headers\n",
    "    )\n",
    "    \n",
    "    #normalize data from raw json to columns\n",
    "    result_dict_1 = json_normalize(data)\n",
    "    \n",
    "    \n",
    "    dataset = DataFrame(result_dict_1,columns=['_source.datetime','_source.@timestamp','_source.CellID','_source.provinceName',\n",
    "                                               '_id'])\n",
    "    \n",
    "    \n",
    "    dataset.columns=['datetime','@timestamp','CellID','provinceName','id']\n",
    "    \n",
    "    #print(dataset)\n",
    "    \n",
    "    #connect to sqlite database\n",
    "    connex = db.connect(\"store.db\") \n",
    "    cur = connex.cursor() \n",
    "    \n",
    "    #export dataset to sqlite\n",
    "    dataset.to_sql(name=\"mi_dataset\", con=connex, if_exists=\"append\", index=False)   \n",
    "\n",
    "    #scroll data with unique id (avoid duplicates)           \n",
    "    try:\n",
    "        res_json = scroll_res.json()\n",
    "        data = res_json['hits']['hits']\n",
    "        _scroll_id = res_json['_scroll_id']\n",
    "\n",
    "    except KeyError:\n",
    "        data = []\n",
    "        _scroll_id = None\n",
    "        err_msg = 'Error: Elastic Search Scroll: %s'\n",
    "        print (err_msg % str(scroll_res.json()))"
   ]
  },
  {
   "cell_type": "code",
   "execution_count": null,
   "metadata": {},
   "outputs": [],
   "source": [
    "##Data retrive for 2nd mi Index##"
   ]
  },
  {
   "cell_type": "code",
   "execution_count": null,
   "metadata": {},
   "outputs": [],
   "source": [
    "r5 = requests.request(\n",
    "    \"POST\",\n",
    "    elastic_url_5,\n",
    "    data=json.dumps(payload),\n",
    "    headers=headers)"
   ]
  },
  {
   "cell_type": "code",
   "execution_count": null,
   "metadata": {},
   "outputs": [],
   "source": [
    "# first batch data for 1st mi Index\n",
    "try:\n",
    "    res_json = r5.json()\n",
    "    data = res_json['hits']['hits']\n",
    "    _scroll_id = res_json['_scroll_id']\n",
    "\n",
    "except KeyError:\n",
    "    data = []\n",
    "    _scroll_id = None\n",
    "    print ('Error: Elastic Search: %s' % str(r5.json()))"
   ]
  },
  {
   "cell_type": "code",
   "execution_count": null,
   "metadata": {},
   "outputs": [],
   "source": [
    "#loop and retrive data from ES and store them in an SQLite DB\n",
    "while data:\n",
    "\n",
    "    #print (data)\n",
    "      \n",
    "    # scroll to get next batch data\n",
    "    scroll_payload = json.dumps({\n",
    "    'scroll': '1m',\n",
    "    'scroll_id': _scroll_id\n",
    "    })\n",
    "        \n",
    "    scroll_res = requests.request(\n",
    "    \"POST\", scroll_api_url,\n",
    "    data=scroll_payload,\n",
    "    headers=headers\n",
    "    )\n",
    "    \n",
    "    #normalize data from raw json to columns\n",
    "    result_dict_1 = json_normalize(data)\n",
    "    \n",
    "    \n",
    "    dataset = DataFrame(result_dict_1,columns=['_source.datetime','_source.@timestamp','_source.CellID','_source.provinceName',\n",
    "                                               '_id'])\n",
    "    \n",
    "    \n",
    "    dataset.columns=['datetime','@timestamp','CellID','provinceName','id']\n",
    "    \n",
    "    #print(dataset)\n",
    "    \n",
    "    #connect to sqlite database\n",
    "    connex = db.connect(\"store.db\") \n",
    "    cur = connex.cursor() \n",
    "    \n",
    "    #export dataset to sqlite\n",
    "    dataset.to_sql(name=\"mi_dataset\", con=connex, if_exists=\"append\", index=False)   \n",
    "\n",
    "    #scroll data with unique id (avoid duplicates)           \n",
    "    try:\n",
    "        res_json = scroll_res.json()\n",
    "        data = res_json['hits']['hits']\n",
    "        _scroll_id = res_json['_scroll_id']\n",
    "\n",
    "    except KeyError:\n",
    "        data = []\n",
    "        _scroll_id = None\n",
    "        err_msg = 'Error: Elastic Search Scroll: %s'\n",
    "        print (err_msg % str(scroll_res.json()))"
   ]
  },
  {
   "cell_type": "code",
   "execution_count": null,
   "metadata": {},
   "outputs": [],
   "source": [
    "##Data retrive for 3rd mi Index##"
   ]
  },
  {
   "cell_type": "code",
   "execution_count": null,
   "metadata": {},
   "outputs": [],
   "source": [
    "r6 = requests.request(\n",
    "    \"POST\",\n",
    "    elastic_url_6,\n",
    "    data=json.dumps(payload),\n",
    "    headers=headers)"
   ]
  },
  {
   "cell_type": "code",
   "execution_count": null,
   "metadata": {},
   "outputs": [],
   "source": [
    "# first batch data for 1st mi Index\n",
    "try:\n",
    "    res_json = r6.json()\n",
    "    data = res_json['hits']['hits']\n",
    "    _scroll_id = res_json['_scroll_id']\n",
    "\n",
    "except KeyError:\n",
    "    data = []\n",
    "    _scroll_id = None\n",
    "    print ('Error: Elastic Search: %s' % str(r6.json()))"
   ]
  },
  {
   "cell_type": "code",
   "execution_count": null,
   "metadata": {},
   "outputs": [],
   "source": [
    "#loop and retrive data from ES and store them in an SQLite DB\n",
    "while data:\n",
    "\n",
    "    #print (data)\n",
    "      \n",
    "    # scroll to get next batch data\n",
    "    scroll_payload = json.dumps({\n",
    "    'scroll': '1m',\n",
    "    'scroll_id': _scroll_id\n",
    "    })\n",
    "        \n",
    "    scroll_res = requests.request(\n",
    "    \"POST\", scroll_api_url,\n",
    "    data=scroll_payload,\n",
    "    headers=headers\n",
    "    )\n",
    "    \n",
    "    #normalize data from raw json to columns\n",
    "    result_dict_1 = json_normalize(data)\n",
    "    \n",
    "    \n",
    "    dataset = DataFrame(result_dict_1,columns=['_source.datetime','_source.@timestamp','_source.CellID','_source.provinceName',\n",
    "                                               '_id'])\n",
    "    \n",
    "    \n",
    "    dataset.columns=['datetime','@timestamp','CellID','provinceName','id']\n",
    "    \n",
    "    #print(dataset)\n",
    "    \n",
    "    #connect to sqlite database\n",
    "    connex = db.connect(\"store.db\") \n",
    "    cur = connex.cursor() \n",
    "    \n",
    "    #export dataset to sqlite\n",
    "    dataset.to_sql(name=\"mi_dataset\", con=connex, if_exists=\"append\", index=False)   \n",
    "\n",
    "    #scroll data with unique id (avoid duplicates)           \n",
    "    try:\n",
    "        res_json = scroll_res.json()\n",
    "        data = res_json['hits']['hits']\n",
    "        _scroll_id = res_json['_scroll_id']\n",
    "\n",
    "    except KeyError:\n",
    "        data = []\n",
    "        _scroll_id = None\n",
    "        err_msg = 'Error: Elastic Search Scroll: %s'\n",
    "        print (err_msg % str(scroll_res.json()))"
   ]
  },
  {
   "cell_type": "code",
   "execution_count": null,
   "metadata": {},
   "outputs": [],
   "source": [
    "#######################################################################################################################"
   ]
  },
  {
   "cell_type": "code",
   "execution_count": null,
   "metadata": {},
   "outputs": [],
   "source": [
    "#sqlite DB connection\n",
    "connex = db.connect(\"store.db\") \n",
    "cur = connex.cursor()"
   ]
  },
  {
   "cell_type": "code",
   "execution_count": null,
   "metadata": {},
   "outputs": [],
   "source": [
    "#query SQL selections\n",
    "\n",
    "#query = \"SELECT * FROM cdr_dataset;\"\n",
    "#query = \"SELECT * FROM cdr_dataset WHERE CellID=3387 AND internet>=100;\"\n",
    "#query = \"SELECT * FROM cdr_dataset WHERE countrycode=39 AND internet>=10;\"\n",
    "#query = \"SELECT datetime, CellID, internet FROM cdr_dataset WHERE internet>=100;\"\n",
    "#query = \"SELECT CellID, callin, callout, countrycode, datetime, smsin, smsout, internet FROM cdr_dataset;\"\n",
    "\n",
    "query = \"SELECT DISTINCT * FROM cdr_dataset as cdr, mi_dataset as mi WHERE cdr.datetime=mi.datetime AND cdr.CellID=mi.CellID AND cdr.internet>=1;\"\n",
    "\n",
    "#query = \"SELECT DISTINCT cdr.id, cdr.@timestamp,cdr.CellID,cdr.countrycode,cdr.datetime,mi.provinceName,cdr.internet FROM cdr_dataset as cdr, mi_dataset as mi WHERE cdr.datetime=mi.datetime AND cdr.CellID=mi.CellID AND cdr.internet>=1;\"\n"
   ]
  },
  {
   "cell_type": "code",
   "execution_count": null,
   "metadata": {},
   "outputs": [],
   "source": [
    "df = pd.read_sql_query(query,connex)\n"
   ]
  },
  {
   "cell_type": "code",
   "execution_count": null,
   "metadata": {},
   "outputs": [],
   "source": [
    "df.head()\n",
    "#print(df)"
   ]
  },
  {
   "cell_type": "code",
   "execution_count": null,
   "metadata": {},
   "outputs": [],
   "source": [
    "df2 = df.drop(df.columns[[6, 7, 8, 10]], axis=1)"
   ]
  },
  {
   "cell_type": "code",
   "execution_count": null,
   "metadata": {},
   "outputs": [],
   "source": [
    "print(df2)"
   ]
  },
  {
   "cell_type": "code",
   "execution_count": null,
   "metadata": {},
   "outputs": [],
   "source": [
    "# fill with 0 where is NaN\n",
    "#pandas_df = df.fillna(0)\n",
    "#pandas_df\n",
    "#pandas_df.head()"
   ]
  },
  {
   "cell_type": "code",
   "execution_count": null,
   "metadata": {},
   "outputs": [],
   "source": [
    "# see the columns of our dataset\n",
    "#pandas_df.columns"
   ]
  },
  {
   "cell_type": "code",
   "execution_count": null,
   "metadata": {},
   "outputs": [],
   "source": [
    "#select columns from pandas\n",
    "#countrycode = DataFrame(pandas_df,columns=['countrycode'])\n",
    "#countrycode\n",
    "\n",
    "#callin =  DataFrame(pandas_df,columns=['callin'])\n",
    "#callin"
   ]
  },
  {
   "cell_type": "code",
   "execution_count": null,
   "metadata": {},
   "outputs": [],
   "source": [
    "# making aggregations and conditions in pandas\n",
    "#pandas_df['callout_pricing'] = pandas_df.apply (lambda x: x['callout']*0.25 if x['countrycode']==221 else x['callout']*0.18, axis=1)\n",
    "#pandas_df['callin_pricing'] = pandas_df.apply (lambda x: x['callin']*0.019 if x['countrycode']==221 else x['callin']*0.011, axis=1) \n",
    "#pandas_df['smsin_pricing'] = pandas_df.apply (lambda x: x['smsin']*0.01 if x['countrycode']==221 else x['smsin']*0.01, axis=1) \n",
    "#pandas_df['smsout_pricing'] = pandas_df.apply (lambda x: x['smsout']*0.15 if x['countrycode']==221 else x['smsout']*0.1, axis=1) \n",
    "#pandas_df['internet_pricing'] = pandas_df.apply (lambda x: x['internet']*0.7 if x['countrycode']==221 else x['internet']*0.4, axis=1) \n"
   ]
  },
  {
   "cell_type": "code",
   "execution_count": null,
   "metadata": {},
   "outputs": [],
   "source": [
    "#print(pandas_df)\n",
    "#pandas_df.head()"
   ]
  },
  {
   "cell_type": "code",
   "execution_count": null,
   "metadata": {},
   "outputs": [],
   "source": [
    "# summurize all the column values in one total column\n",
    "#pandas_df['total_pricing'] = pandas_df.apply (lambda x: x['callout_pricing'] + x['callin_pricing'] + x['smsin_pricing'] + x['smsout_pricing'] + x['internet_pricing'] , axis=1)\n"
   ]
  },
  {
   "cell_type": "code",
   "execution_count": null,
   "metadata": {},
   "outputs": [],
   "source": [
    "#print(pandas_df)\n",
    "#pandas_df.head()"
   ]
  },
  {
   "cell_type": "code",
   "execution_count": null,
   "metadata": {},
   "outputs": [],
   "source": [
    "# add one more column in the dataset (index column in this case)\n",
    "#pandas_df['uid_name'] = (pandas_df.index + 0).astype(str)\n",
    "df2['uid_name'] = (df2.index + 0).astype(str)"
   ]
  },
  {
   "cell_type": "code",
   "execution_count": null,
   "metadata": {},
   "outputs": [],
   "source": [
    "pandas_df=df2\n",
    "#print(df)\n",
    "pandas_df.head()"
   ]
  },
  {
   "cell_type": "code",
   "execution_count": null,
   "metadata": {},
   "outputs": [],
   "source": []
  },
  {
   "cell_type": "code",
   "execution_count": null,
   "metadata": {},
   "outputs": [],
   "source": [
    "#pandas_df.head()"
   ]
  },
  {
   "cell_type": "code",
   "execution_count": null,
   "metadata": {},
   "outputs": [],
   "source": [
    "# Export the final datast in csv file\n",
    "# Don't forget to add '.csv' at the end of the path\n",
    "export_csv = pandas_df.to_csv(\"C:/Users/LeliopoulosP/Desktop/ElasticPython/final data retrive from ES and SQLite storaging/export.csv\", index = None, header=True)"
   ]
  },
  {
   "cell_type": "code",
   "execution_count": null,
   "metadata": {},
   "outputs": [],
   "source": [
    "#csv_dataset = pd.read_csv(\"export.csv\", index_col =\"id\") "
   ]
  },
  {
   "cell_type": "code",
   "execution_count": null,
   "metadata": {},
   "outputs": [],
   "source": []
  },
  {
   "cell_type": "code",
   "execution_count": null,
   "metadata": {},
   "outputs": [],
   "source": [
    "# Convert a panda's dataframe to json\n",
    "df = pandas_df.read_csv(\"export.csv\",sep=\",\",decimal=\".\")"
   ]
  },
  {
   "cell_type": "code",
   "execution_count": null,
   "metadata": {},
   "outputs": [],
   "source": []
  },
  {
   "cell_type": "code",
   "execution_count": null,
   "metadata": {},
   "outputs": [],
   "source": [
    "# Add an id for looping into elastic search index\n",
    "df[\"no_index\"] = [x+1 for x in range(len(df[\"datetime\"]))]"
   ]
  },
  {
   "cell_type": "code",
   "execution_count": null,
   "metadata": {},
   "outputs": [],
   "source": [
    "# Convert into json\n",
    "tmp = df.to_json(orient = \"records\")"
   ]
  },
  {
   "cell_type": "code",
   "execution_count": null,
   "metadata": {},
   "outputs": [],
   "source": [
    "# Load each record into json format before bulk\n",
    "df_json= json.loads(tmp)\n",
    "df_json[:10]"
   ]
  },
  {
   "cell_type": "code",
   "execution_count": null,
   "metadata": {},
   "outputs": [],
   "source": [
    "# creating an index in the Elasticsearch\n",
    "INDEX = 'cdr_mi'\n",
    "TYPE = 'bar_type'\n",
    "esp = Espandas()\n",
    "esp.es_write(df, INDEX, TYPE)"
   ]
  },
  {
   "cell_type": "code",
   "execution_count": null,
   "metadata": {},
   "outputs": [],
   "source": [
    "# parce the dataset in the elasticsearch\n",
    "def rec_to_actions(df):\n",
    "    import json\n",
    "    for record in df.to_dict(orient=\"records\"):\n",
    "        yield ('{ \"index\" : { \"_index\" : \"%s\", \"_type\" : \"%s\" }}'% (INDEX, TYPE))\n",
    "        yield (json.dumps(record, default=int))"
   ]
  },
  {
   "cell_type": "code",
   "execution_count": null,
   "metadata": {},
   "outputs": [],
   "source": [
    "e = Elasticsearch() # no args, connect to localhost:9200\n",
    "if not e.indices.exists(INDEX):\n",
    "    raise RuntimeError('index does not exists, use `curl -X PUT \"localhost:9200/%s\"` and try again'%INDEX)"
   ]
  },
  {
   "cell_type": "code",
   "execution_count": null,
   "metadata": {},
   "outputs": [],
   "source": [
    "r = e.bulk(rec_to_actions(df)) # return a dict\n",
    "print(not r[\"errors\"])"
   ]
  },
  {
   "cell_type": "code",
   "execution_count": null,
   "metadata": {},
   "outputs": [],
   "source": []
  },
  {
   "cell_type": "code",
   "execution_count": null,
   "metadata": {},
   "outputs": [],
   "source": []
  },
  {
   "cell_type": "code",
   "execution_count": null,
   "metadata": {},
   "outputs": [],
   "source": []
  },
  {
   "cell_type": "code",
   "execution_count": 30,
   "metadata": {},
   "outputs": [],
   "source": [
    "##delete sqlite file\n",
    "connex.close()\n",
    "##os.remove(\"store.db\")"
   ]
  },
  {
   "cell_type": "code",
   "execution_count": null,
   "metadata": {},
   "outputs": [],
   "source": []
  }
 ],
 "metadata": {
  "kernelspec": {
   "display_name": "Python 3",
   "language": "python",
   "name": "python3"
  },
  "language_info": {
   "codemirror_mode": {
    "name": "ipython",
    "version": 3
   },
   "file_extension": ".py",
   "mimetype": "text/x-python",
   "name": "python",
   "nbconvert_exporter": "python",
   "pygments_lexer": "ipython3",
   "version": "3.7.3"
  }
 },
 "nbformat": 4,
 "nbformat_minor": 2
}
